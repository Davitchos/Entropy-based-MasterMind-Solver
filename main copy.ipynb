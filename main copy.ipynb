{
 "cells": [
  {
   "cell_type": "markdown",
   "metadata": {},
   "source": [
    "# MasterMind"
   ]
  },
  {
   "cell_type": "markdown",
   "metadata": {},
   "source": [
    "### Mastermind (formal) Definition\n",
    "\n",
    "**Parameters**\n",
    "\n",
    "$$\n",
    "colors = \\{\\;🔴, 🟢, 🔵, 🟡, 🟣, 🟠\\;\\}, \\quad |colors| = c = 6\n",
    "$$\n",
    "\n",
    "$$\n",
    "positions = \\{1,2,3,4\\}, \\quad |positions| = p = 4\n",
    "$$\n",
    "\n",
    "$$\n",
    "tries = \\{1,2,3,4,5,6\\}, \\quad |tries| = t = 6\n",
    "$$\n",
    "\n",
    "---\n",
    "\n",
    "**Code Space**\n",
    "\n",
    "$$\n",
    "\\mathcal{C} = \\{0,1,\\dots,c-1\\}^p, \\qquad |\\mathcal{C}| = c^p = 6^4 = 1296\n",
    "$$\n",
    "\n",
    "---\n",
    "\n",
    "**Feedback Function**\n",
    "\n",
    "$$\n",
    "F : \\mathcal{C} \\times \\mathcal{C} \\;\\longrightarrow\\; \\mathbb{N}^2\n",
    "$$\n",
    "\n",
    "$$\n",
    "F(\\text{secret}, \\text{guess}) = (b,w)\n",
    "$$\n",
    "\n",
    "where  \n",
    "\n",
    "**Black pegs:**\n",
    "\n",
    "$$\n",
    "b = \\big|\\{ j \\in \\{1,\\dots,p\\} \\;\\mid\\; \\text{secret}[j] = \\text{guess}[j] \\}\\big|\n",
    "$$\n",
    "\n",
    "**White pegs:**\n",
    "\n",
    "$$\n",
    "w = \\sum_{x=0}^{c-1} \\min\\big(\\#_x(\\text{secret}), \\#_x(\\text{guess})\\big) - b\n",
    "$$\n",
    "\n",
    "\n",
    "**Winning Condition**\n",
    "\n",
    "$$\n",
    "\\exists i \\leq t : F(\\text{secret}, \\text{guess}_i) = (p,0)\n",
    "$$\n",
    "\n",
    "In this case the codebreaker wins. Otherwise, the codemaker wins.\n",
    "\n",
    "---"
   ]
  },
  {
   "cell_type": "markdown",
   "metadata": {},
   "source": [
    "# Game configuration"
   ]
  },
  {
   "cell_type": "markdown",
   "metadata": {},
   "source": [
    "First, configure an instance of the game with a vizualizer. First, we will only focus on the classical configuration with 6 colors, 4 positions and 6 tries to guess the right combination. The implementation details will not be discussed further here. If necessary, take a look at mastermind.py."
   ]
  },
  {
   "cell_type": "code",
   "execution_count": 1,
   "metadata": {},
   "outputs": [
    {
     "name": "stdout",
     "output_type": "stream",
     "text": [
      "\n",
      "=== MasterMind ===\n",
      "Positions: 4, Colors: 6\n",
      "--------------------------\n"
     ]
    }
   ],
   "source": [
    "import numpy as np\n",
    "from master_mind import MasterMind, TextVisualizer\n",
    "import simulation\n",
    "\n",
    "game = MasterMind(secret=np.array([0, 0, 0, 0]))\n",
    "viz = TextVisualizer(positions=game.positions, colors=game.colors)"
   ]
  },
  {
   "cell_type": "markdown",
   "metadata": {},
   "source": [
    "---"
   ]
  },
  {
   "cell_type": "markdown",
   "metadata": {},
   "source": [
    "# Naive approaches"
   ]
  },
  {
   "cell_type": "markdown",
   "metadata": {},
   "source": [
    "Lets start with a simple approach to solve the game: generate random combinations until you hit the right one. We will use the simulation.py library here for using the game with a solver."
   ]
  },
  {
   "cell_type": "code",
   "execution_count": 6,
   "metadata": {},
   "outputs": [
    {
     "name": "stdout",
     "output_type": "stream",
     "text": [
      "Turn  1: 🟠 🟡 🟣 🔴  | (Black: 1, White: 0) ○\n",
      "Turn  2: 🟢 🟡 🟠 🔴  | (Black: 1, White: 0) ○\n",
      "Turn  3: 🔴 🟢 🟣 🟠  | (Black: 1, White: 0) ○\n",
      "Turn  4: 🟣 🟢 🔵 🟣  | (Black: 0, White: 0) \n",
      "Turn  5: 🟠 🔵 🟣 🟡  | (Black: 0, White: 0) \n",
      "Turn  6: 🟣 🔵 🟣 🟠  | (Black: 0, White: 0) \n",
      "--------------------------\n",
      "Secret: 🔴 🔴 🔴 🔴  ->  LOSS ❌\n",
      "\n"
     ]
    },
    {
     "data": {
      "text/plain": [
       "(False, 6, array([4, 2, 4, 5]))"
      ]
     },
     "execution_count": 6,
     "metadata": {},
     "output_type": "execute_result"
    }
   ],
   "source": [
    "\n",
    "class RandomGuesser:\n",
    "    def next_guess(self, turn, last_result, positions, colors):\n",
    "        return np.random.randint(0, colors, size=positions)\n",
    "\n",
    "np.random.seed(1)\n",
    "solver = RandomGuesser()\n",
    "simulation.play_with_visualizer(game, solver, viz, max_turns=6)\n"
   ]
  },
  {
   "cell_type": "markdown",
   "metadata": {},
   "source": [
    "The algorithm is non-deterministic and has a success probability of $P(Success) = ((\\frac{1}{|colors|})^{|positions|}) * |attempts|$\n",
    "\n",
    "With our initial parameters this equals a probability of $P_{std}(Success)) = \\frac{1}{6}^{4}*6$ = 0.46%. We know this is bad. But how do we determine how bad an algortithm really is?\n",
    "\n",
    "---"
   ]
  },
  {
   "cell_type": "markdown",
   "metadata": {},
   "source": [
    "# Evaluation metrics"
   ]
  },
  {
   "cell_type": "markdown",
   "metadata": {},
   "source": [
    "For our naive algorithm, we can test all possible instances of the game with the $std$ configuration. In general, $6^4 = 1296$ possible codes can exist. An algorithm is considered superior if he has a lower $\\textit{maximum}$ amount of turns for all of those combinations. "
   ]
  },
  {
   "cell_type": "markdown",
   "metadata": {},
   "source": [
    "First, we need to determine all possible secrets."
   ]
  },
  {
   "cell_type": "code",
   "execution_count": 4,
   "metadata": {},
   "outputs": [],
   "source": [
    "def all_codes(positions=4, colors=6, dtype=np.uint8):\n",
    "    \"\"\"Return an array of shape (colors**positions, positions)\n",
    "    with every code (0..colors-1) for each position.\"\"\"\n",
    "    base = np.arange(colors, dtype=dtype)\n",
    "    grids = np.meshgrid(*([base] * positions), indexing='ij')\n",
    "    return np.stack(grids, axis=-1).reshape(-1, positions)\n",
    "\n",
    "# all secrets\n",
    "codes = all_codes()"
   ]
  },
  {
   "cell_type": "markdown",
   "metadata": {},
   "source": [
    "Now we can compute the average amount of turns for this algoritm. For that, we set the max_turns at an unreasonably large number (e.g. 1000)."
   ]
  },
  {
   "cell_type": "code",
   "execution_count": 7,
   "metadata": {},
   "outputs": [
    {
     "ename": "KeyboardInterrupt",
     "evalue": "",
     "output_type": "error",
     "traceback": [
      "\u001b[31m---------------------------------------------------------------------------\u001b[39m",
      "\u001b[31mKeyboardInterrupt\u001b[39m                         Traceback (most recent call last)",
      "\u001b[36mCell\u001b[39m\u001b[36m \u001b[39m\u001b[32mIn[7]\u001b[39m\u001b[32m, line 8\u001b[39m\n\u001b[32m      6\u001b[39m     secret = codes[i]\n\u001b[32m      7\u001b[39m     game = MasterMind(secret=secret)\n\u001b[32m----> \u001b[39m\u001b[32m8\u001b[39m     _, turn, _ = \u001b[43msimulation\u001b[49m\u001b[43m.\u001b[49m\u001b[43mplay\u001b[49m\u001b[43m(\u001b[49m\u001b[43mgame\u001b[49m\u001b[43m=\u001b[49m\u001b[43mgame\u001b[49m\u001b[43m,\u001b[49m\u001b[43m \u001b[49m\u001b[43mguesser\u001b[49m\u001b[43m=\u001b[49m\u001b[43msolver\u001b[49m\u001b[43m,\u001b[49m\u001b[43m \u001b[49m\u001b[43mmax_turns\u001b[49m\u001b[43m=\u001b[49m\u001b[32;43m1000\u001b[39;49m\u001b[43m)\u001b[49m\n\u001b[32m      9\u001b[39m     turns.append(turn)\n\u001b[32m     11\u001b[39m \u001b[38;5;28mprint\u001b[39m({\n\u001b[32m     12\u001b[39m     \u001b[33m\"\u001b[39m\u001b[33mmean\u001b[39m\u001b[33m\"\u001b[39m: np.average(turns),\n\u001b[32m     13\u001b[39m     \u001b[33m\"\u001b[39m\u001b[33mmax\u001b[39m\u001b[33m\"\u001b[39m: np.max(turns),\n\u001b[32m     14\u001b[39m     \u001b[33m\"\u001b[39m\u001b[33movershoot\u001b[39m\u001b[33m\"\u001b[39m: np.sum(np.array(turns) > \u001b[32m6\u001b[39m)\n\u001b[32m     15\u001b[39m })\n",
      "\u001b[36mFile \u001b[39m\u001b[32m~/Desktop/MasterMind/simulation.py:25\u001b[39m, in \u001b[36mplay\u001b[39m\u001b[34m(game, guesser, max_turns)\u001b[39m\n\u001b[32m     23\u001b[39m \u001b[38;5;28;01mfor\u001b[39;00m turn \u001b[38;5;129;01min\u001b[39;00m \u001b[38;5;28mrange\u001b[39m(\u001b[32m1\u001b[39m, max_turns + \u001b[32m1\u001b[39m):\n\u001b[32m     24\u001b[39m     guess = guesser.next_guess(turn, last_result, game.positions, game.colors)\n\u001b[32m---> \u001b[39m\u001b[32m25\u001b[39m     result = \u001b[43mgame\u001b[49m\u001b[43m.\u001b[49m\u001b[43meval\u001b[49m\u001b[43m(\u001b[49m\u001b[43mguess\u001b[49m\u001b[43m)\u001b[49m\n\u001b[32m     26\u001b[39m     \u001b[38;5;28;01mif\u001b[39;00m result[\u001b[33m\"\u001b[39m\u001b[33mblack\u001b[39m\u001b[33m\"\u001b[39m] == game.positions:\n\u001b[32m     27\u001b[39m         \u001b[38;5;28;01mreturn\u001b[39;00m \u001b[38;5;28;01mTrue\u001b[39;00m, turn, guess\n",
      "\u001b[36mFile \u001b[39m\u001b[32m~/Desktop/MasterMind/master_mind.py:71\u001b[39m, in \u001b[36mMasterMind.eval\u001b[39m\u001b[34m(self, guess)\u001b[39m\n\u001b[32m     69\u001b[39m whites = \u001b[32m0\u001b[39m\n\u001b[32m     70\u001b[39m \u001b[38;5;28;01mfor\u001b[39;00m c \u001b[38;5;129;01min\u001b[39;00m \u001b[38;5;28mrange\u001b[39m(\u001b[38;5;28mself\u001b[39m.colors):\n\u001b[32m---> \u001b[39m\u001b[32m71\u001b[39m     whites += \u001b[38;5;28mmin\u001b[39m(\u001b[43mnp\u001b[49m\u001b[43m.\u001b[49m\u001b[43msum\u001b[49m\u001b[43m(\u001b[49m\u001b[38;5;28;43mself\u001b[39;49m\u001b[43m.\u001b[49m\u001b[43msecret\u001b[49m\u001b[43m \u001b[49m\u001b[43m==\u001b[49m\u001b[43m \u001b[49m\u001b[43mc\u001b[49m\u001b[43m)\u001b[49m, np.sum(guess == c))\n\u001b[32m     72\u001b[39m whites -= blacks\n\u001b[32m     73\u001b[39m \u001b[38;5;28;01mreturn\u001b[39;00m {\u001b[33m\"\u001b[39m\u001b[33mblack\u001b[39m\u001b[33m\"\u001b[39m: \u001b[38;5;28mint\u001b[39m(blacks), \u001b[33m\"\u001b[39m\u001b[33mwhite\u001b[39m\u001b[33m\"\u001b[39m: \u001b[38;5;28mint\u001b[39m(whites)}\n",
      "\u001b[31mKeyboardInterrupt\u001b[39m: "
     ]
    }
   ],
   "source": [
    "import importlib\n",
    "importlib.reload(simulation)\n",
    "turns = []\n",
    "\n",
    "for i in range(1296):\n",
    "    secret = codes[i]\n",
    "    game = MasterMind(secret=secret)\n",
    "    _, turn, _ = simulation.play(game=game, guesser=solver, max_turns=1000)\n",
    "    turns.append(turn)\n",
    "\n",
    "print({\n",
    "    \"mean\": np.average(turns),\n",
    "    \"max\": np.max(turns),\n",
    "    \"overshoot\": np.sum(np.array(turns) > 6)\n",
    "})\n",
    "    "
   ]
  },
  {
   "cell_type": "markdown",
   "metadata": {},
   "source": [
    "This simulatation approach will be stored in benchmark.py and used for all further discussed algorithms. While completely overkill here, a parallelization option is included as n_jobs for more complex solution algorithms later on."
   ]
  },
  {
   "cell_type": "code",
   "execution_count": 8,
   "metadata": {},
   "outputs": [
    {
     "name": "stderr",
     "output_type": "stream",
     "text": [
      "Benchmarking: 100%|██████████| 1296/1296 [00:06<00:00, 202.82game/s]\n"
     ]
    },
    {
     "name": "stdout",
     "output_type": "stream",
     "text": [
      "{'# mean turns to guess secret': np.float64(695.32), '# maximum turns to guess secret': 1000, '# losses (> 6 guesses)': 1286}\n"
     ]
    }
   ],
   "source": [
    "import benchmark\n",
    "importlib.reload(benchmark)\n",
    "\n",
    "stats = benchmark.benchmark_solver(RandomGuesser, n_jobs=4)\n",
    "print(stats)"
   ]
  },
  {
   "cell_type": "markdown",
   "metadata": {},
   "source": [
    "Hence the benchmarking tells us that on average it takes 670 turns and the algorithm looses the game in 1292 out of 1296 possible cases.\n",
    "\n",
    "---"
   ]
  },
  {
   "cell_type": "markdown",
   "metadata": {},
   "source": [
    "# More sophisticated approaches"
   ]
  },
  {
   "cell_type": "markdown",
   "metadata": {},
   "source": [
    "An obvious improvement would be to create a matrix with all possible combinations. After a first random guess, one would cross out all entries that violate the evaluation from the previous round, thus continously reducing possiblities."
   ]
  },
  {
   "cell_type": "code",
   "execution_count": 137,
   "metadata": {},
   "outputs": [],
   "source": [
    "from collections import Counter\n",
    "import random\n",
    "\n",
    "class pruningSimpleGuesser:\n",
    "    def __init__(self, positions=4, colors=6, seed=None):\n",
    "        self.positions = positions\n",
    "        self.colors = colors\n",
    "        self.last_guess = None\n",
    "        self.generate_combinations()\n",
    "\n",
    "    def next_guess(self, turn, last_result, positions, colors):\n",
    "        if self.last_guess is not None and last_result is not None:\n",
    "            black_count = last_result[\"black\"]\n",
    "            white_count = last_result[\"white\"]\n",
    "\n",
    "            revised_canditates_matrix = [] \n",
    "\n",
    "            for candidate in self.candidates_matrix:\n",
    "                #check for each remaining combination, if it is still admissable\n",
    "                if self.is_valid_candidate(candidate, black_count, white_count):\n",
    "                    revised_canditates_matrix.append(candidate) # add candidate to posibilites if he is possible\n",
    "\n",
    "            self.candidates_matrix = revised_canditates_matrix # update admissable solutions to new ones\n",
    "\n",
    "        guess = random.choice(self.candidates_matrix)\n",
    "        self.last_guess = guess  # remember for next feedback\n",
    "        #print(guess)\n",
    "        #print(\"Guesses left \" + str(len(self.candidates_matrix)))\n",
    "        #if len(self.candidates_matrix) < 10:\n",
    "        #    print(self.candidates_matrix)\n",
    "        return guess\n",
    "    \n",
    "    def is_valid_candidate(self, candidate, black_count, white_count):\n",
    "        b, w = self.feedback(candidate, self.last_guess)\n",
    "        return (b == black_count) and (w == white_count)\n",
    "    \n",
    "    def feedback(self, secret, guess):\n",
    "        # Blacks\n",
    "        blacks = sum(s == g for s, g in zip(secret, guess))\n",
    "        # Whites\n",
    "        sec_ctr = Counter(secret)\n",
    "        gue_ctr = Counter(guess)\n",
    "        total_matches = sum((sec_ctr & gue_ctr).values())\n",
    "        whites = total_matches - blacks\n",
    "        return blacks, whites\n",
    "        \n",
    "    def generate_combinations(self, positions=4, colors=6, dtype=np.uint8):\n",
    "        \"\"\"Generate all possible codes as candidate matrix.\"\"\"\n",
    "        base = np.arange(colors, dtype=dtype)\n",
    "        grids = np.meshgrid(*([base] * positions), indexing='ij')\n",
    "        self.candidates_matrix = np.stack(grids, axis=-1).reshape(-1, positions)"
   ]
  },
  {
   "cell_type": "markdown",
   "metadata": {},
   "source": [
    "This simple approach provides already significantly better results. "
   ]
  },
  {
   "cell_type": "code",
   "execution_count": 138,
   "metadata": {},
   "outputs": [
    {
     "name": "stdout",
     "output_type": "stream",
     "text": [
      "Turn  1: 🔵 🔵 🟢 🔵  | (Black: 0, White: 0) \n",
      "Turn  2: 🟡 🟠 🔴 🟣  | (Black: 1, White: 0) ○\n",
      "Turn  3: 🟡 🟡 🟡 🟡  | (Black: 0, White: 0) \n",
      "Turn  4: 🟠 🟠 🟠 🟠  | (Black: 4, White: 0) ○○○○\n",
      "--------------------------\n",
      "Secret: 🟠 🟠 🟠 🟠  ->  WIN 🎉\n",
      "\n"
     ]
    },
    {
     "data": {
      "text/plain": [
       "(True, 4, array([5, 5, 5, 5], dtype=uint8))"
      ]
     },
     "execution_count": 138,
     "metadata": {},
     "output_type": "execute_result"
    }
   ],
   "source": [
    "solver = pruningSimpleGuesser()\n",
    "solver.generate_combinations()\n",
    "simulation.play_with_visualizer(game, solver, viz, max_turns=60)"
   ]
  },
  {
   "cell_type": "markdown",
   "metadata": {},
   "source": [
    "The benchmarking confirms the improved efficiency. Yet, it is not enough to win games consistently. It shows that certain games need up to 7 guesses, which is beyond our set limit of 6. Thus we need improvement. In the next chapter we will discuss a more advanced solution. \n",
    "\n",
    "$\\textit{Note: due to a fewer tries, inspite of more complex logic compared to the random guesser, computing time is faster by a factor of almost 10. }$"
   ]
  },
  {
   "cell_type": "code",
   "execution_count": 139,
   "metadata": {},
   "outputs": [
    {
     "name": "stderr",
     "output_type": "stream",
     "text": [
      "\n",
      "\n",
      "\n",
      "\n",
      "\n",
      "\n",
      "\u001b[A\u001b[A\u001b[A\u001b[A\u001b[A\u001b[A\n",
      "\n",
      "\n",
      "\n",
      "\n",
      "\n",
      "\u001b[A\u001b[A\u001b[A\u001b[A\u001b[A\u001b[A\n",
      "\n",
      "\n",
      "\n",
      "\n",
      "\n",
      "\u001b[A\u001b[A\u001b[A\u001b[A\u001b[A\u001b[A\n",
      "\n",
      "\n",
      "\n",
      "\n",
      "\n",
      "\u001b[A\u001b[A\u001b[A\u001b[A\u001b[A\u001b[A\n",
      "\n",
      "\n",
      "\n",
      "\n",
      "\n",
      "\u001b[A\u001b[A\u001b[A\u001b[A\u001b[A\u001b[A\n",
      "\n",
      "\n",
      "\n",
      "\n",
      "\n",
      "\u001b[A\u001b[A\u001b[A\u001b[A\u001b[A\u001b[A\n",
      "\n",
      "\n",
      "\n",
      "\n",
      "\n",
      "\u001b[A\u001b[A\u001b[A\u001b[A\u001b[A\u001b[A\n",
      "\n",
      "\n",
      "\n",
      "\n",
      "\n",
      "\u001b[A\u001b[A\u001b[A\u001b[A\u001b[A\u001b[A\n",
      "\n",
      "\n",
      "\n",
      "\n",
      "\n",
      "\u001b[A\u001b[A\u001b[A\u001b[A\u001b[A\u001b[A\n",
      "\n",
      "\n",
      "\n",
      "\n",
      "\n",
      "\u001b[A\u001b[A\u001b[A\u001b[A\u001b[A\u001b[A\n",
      "\n",
      "\n",
      "\n",
      "\n",
      "\n",
      "\u001b[A\u001b[A\u001b[A\u001b[A\u001b[A\u001b[A\n",
      "\n",
      "\n",
      "\n",
      "\n",
      "\n",
      "Benchmarking: 100%|██████████| 1296/1296 [00:02<00:00, 628.75game/s]\n"
     ]
    },
    {
     "name": "stdout",
     "output_type": "stream",
     "text": [
      "{'# mean turns to guess secret': np.float64(4.68), '# maximum turns to guess secret': 8, '# losses (> 6 guesses)': 15}\n"
     ]
    }
   ],
   "source": [
    "import benchmark\n",
    "importlib.reload(benchmark)\n",
    "\n",
    "stats = benchmark.benchmark_solver(pruningSimpleGuesser, n_jobs=4)\n",
    "print(stats)"
   ]
  },
  {
   "cell_type": "markdown",
   "metadata": {},
   "source": [
    "---"
   ]
  },
  {
   "cell_type": "markdown",
   "metadata": {},
   "source": [
    "# Decision making optimizations"
   ]
  },
  {
   "cell_type": "markdown",
   "metadata": {},
   "source": [
    "For now, we start with a random guess. After the initial \"blind\" guess, we proceed as follows:\n",
    "\n",
    "1. Eliminate infeasable candidates which would produce a peg count that would bring us further from the solution.\n",
    "2. From the set of feasable candidates, a random one is chosen. \n",
    "3. For each new guess, we gather new information that allows us to eliminate more and more candidates till the secret is found. \n",
    "\n",
    "There are a few problems with this approach.\n",
    "\n",
    "1. The first guess is completly blind/random. Is there an optimal starting guess?\n",
    "2. The feasable set is very big for the first guesses. Again, we decide by randomness which is most certainly not optimal.\n",
    "\n",
    "To solve this problems we need to understand what we are missing. Note, that I only spoke about candidates in qualitative terms as feasable and infeasable candidates. But if we can find a metric to \"rank\" candidates based on how \"good\" they are, we could find a solution much faster. For that, we need a theoretical background."
   ]
  },
  {
   "cell_type": "markdown",
   "metadata": {},
   "source": [
    "## Introduction to information theory"
   ]
  },
  {
   "cell_type": "markdown",
   "metadata": {},
   "source": [
    "As established above, to rank candidates, we need to quantify how \"good\" they are. In mathematical terms, we want to know how much new $\\textbf{information}$ each new candidate can give us and always chose the candidate that will reveal the most about a secret.\n",
    "\n",
    "Lets get an intuition for the concept of $\\textbf{information}$:\n",
    "\n",
    "The probability distribution for black and white pegs looks as follows:\n",
    "\n",
    "Probability to get exactly $b$ blacks:\n",
    "\n",
    "$$\n",
    "N_{blacks}(b) = \\binom{p}{b} \\cdot c^b\n",
    "$$\n",
    "\n",
    "Probability to get exactly $w$ whites:\n",
    "$$\n",
    "N_{whites}(w) = \\binom{p-b}{w} \\cdot D_w \\cdot (c-1)^{p-b-w}\n",
    "$$\n",
    "with:\n",
    "$$\n",
    "D_w = w! \\sum_{k=0}^{w} \\frac{(-1)^k}{k!}\n",
    "$$\n",
    "\n",
    "number of secret–guess pairs producing exactly $b$ blacks and $w$ whites:\n",
    "$$\n",
    "N(b,w) = \\binom{p}{b} \\cdot c^b \\cdot \\binom{p-b}{w} \\cdot D_w \\cdot (c-1)^{p-b-w} \\\\\n",
    "\\\\\n",
    "$$\n",
    "\n",
    "There are a total of $c^{2p}$ possible color combinations. Hence, the probability to get exactly $w$ whites and $b$ blacks is:\n",
    "$$\n",
    "P(b,w) = \\frac{N(b,w)}{c^{2p}} \\\\\n",
    "\\\\\n",
    "$$\n",
    "\n",
    "\n",
    "**Where**:\n",
    "- \\(p\\) = number of positions,\n",
    "- \\(c\\) = number of colors,\n",
    "- \\(b\\) = number of black pegs,\n",
    "- \\(w\\) = number of white pegs,\n",
    "- \\(D_w\\) = number of derangements of \\(w\\) elements.\n"
   ]
  },
  {
   "cell_type": "markdown",
   "metadata": {},
   "source": [
    "Applying this formulas to an arbitrary starting guess we get the following probability distribution.\n",
    "\n",
    "Lets assume a start guess of {🟢, 🟠, 🟣, 🔴} (or in our python datastructure: [0, 1, 2, 3])\n"
   ]
  },
  {
   "cell_type": "code",
   "execution_count": 140,
   "metadata": {},
   "outputs": [
    {
     "data": {
      "image/png": "[encoded data removed]",
      "text/plain": [
       "<Figure size 1000x500 with 1 Axes>"
      ]
     },
     "metadata": {},
     "output_type": "display_data"
    }
   ],
   "source": [
    "from itertools import product\n",
    "from collections import Counter\n",
    "import matplotlib.pyplot as plt\n",
    "\n",
    "def feedback(secret, guess):\n",
    "    \"\"\"Compute Mastermind feedback (blacks, whites).\"\"\"\n",
    "    blacks = sum(s == g for s, g in zip(secret, guess))\n",
    "    secret_counter = Counter(secret)\n",
    "    guess_counter = Counter(guess)\n",
    "    total_matches = sum((secret_counter & guess_counter).values())\n",
    "    whites = total_matches - blacks\n",
    "    return (blacks, whites)\n",
    "\n",
    "def feedback_distribution(guess, colors=6, positions=4):\n",
    "    \"\"\"Compute distribution of feedback results for a given guess.\"\"\"\n",
    "    outcomes = Counter()\n",
    "    for secret in product(range(colors), repeat=positions):\n",
    "        outcomes[feedback(secret, guess)] += 1\n",
    "    return outcomes\n",
    "\n",
    "# ---- Example usage in Jupyter ----\n",
    "guess = [0, 1, 2, 3]\n",
    "dist = feedback_distribution(guess)\n",
    "total = sum(dist.values())  # should be 6^4 = 1296\n",
    "\n",
    "# Sort outcomes by probability (descending, highest left)\n",
    "sorted_outcomes = sorted(dist.items(), key=lambda x: x[1], reverse=True)\n",
    "\n",
    "labels = [f\"{b}b,{w}w\" for (b, w), _ in sorted_outcomes]\n",
    "probs  = [count / total for _, count in sorted_outcomes]\n",
    "\n",
    "plt.figure(figsize=(10,5))\n",
    "plt.bar(labels, probs)\n",
    "plt.xticks(rotation=45)\n",
    "plt.title(f\"Probabilities of secret after guess {guess} for unkown secret\")\n",
    "plt.xlabel(\"Feedback (blacks, whites)\")\n",
    "plt.ylabel(\"Probability\")\n",
    "plt.ylim(0, 1)  # force y-axis from 0 to 1\n",
    "plt.show()"
   ]
  },
  {
   "cell_type": "markdown",
   "metadata": {},
   "source": [
    "We see that after the initial guess, over 20% of combinations/candidates remain feasable if the feedback is 2 white pegs. Hence, this would leave a broad scope of possible guesses. On the other hand, 2b2w would leave only a handful of possibilities and make it rather easy to guess the secret. \n",
    "\n",
    "So we can say that we want to guess as far to the right of this curve as possible, because the more unlikely a guess is, the less options remain for the secret and the more information we got. \n",
    "\n",
    "Conclusion: information of a guess is antiproportional to the probability of a secret. The more unlikely it is, the more information we get.\n",
    "\n",
    "But what is the exact value of this information?"
   ]
  },
  {
   "cell_type": "markdown",
   "metadata": {},
   "source": [
    "### The information content"
   ]
  },
  {
   "cell_type": "markdown",
   "metadata": {},
   "source": [
    "We define the information content of a guess as the negative logarithm of its probability\n",
    "\n",
    "$I = - \\log{2}{(\\frac{1}{p})} bits$\n",
    "\n",
    "In other words, if a guess has a information content of 2bits, the probability of the occurance of this event is $\\frac{1}{4}$"
   ]
  },
  {
   "cell_type": "markdown",
   "metadata": {},
   "source": [
    "Since we do not know the actual secret, it does not make sence to look at all posibilities and their information content individually, but rather as a joint value for all posiblilites for each combination. We define the expected information content of a possible candidate guess as: \n",
    "$$\n",
    "\\mathbb{E}[I] = H = \\sum_{x}{p(x) * (-\\log_{2}{p(x)})}\n",
    "$$\n",
    "\n",
    "This is also called the $\\textit{Entropy}$ of a candidate.\n",
    "\n",
    "Comming back to our example we calculate:"
   ]
  },
  {
   "cell_type": "code",
   "execution_count": 141,
   "metadata": {},
   "outputs": [
    {
     "data": {
      "image/png": "[encoded data removed]",
      "text/plain": [
       "<Figure size 1000x500 with 1 Axes>"
      ]
     },
     "metadata": {},
     "output_type": "display_data"
    },
    {
     "name": "stdout",
     "output_type": "stream",
     "text": [
      "Entropy for guess [0, 1, 2, 3]: 3.0567 bits\n"
     ]
    }
   ],
   "source": [
    "from itertools import product\n",
    "from collections import Counter\n",
    "import matplotlib.pyplot as plt\n",
    "import math\n",
    "\n",
    "def feedback(secret, guess):\n",
    "    \"\"\"Compute Mastermind feedback (blacks, whites).\"\"\"\n",
    "    blacks = sum(s == g for s, g in zip(secret, guess))\n",
    "    secret_counter = Counter(secret)\n",
    "    guess_counter = Counter(guess)\n",
    "    total_matches = sum((secret_counter & guess_counter).values())\n",
    "    whites = total_matches - blacks\n",
    "    return (blacks, whites)\n",
    "\n",
    "def feedback_distribution(guess, colors=6, positions=4):\n",
    "    \"\"\"Compute distribution of feedback results for a given guess.\"\"\"\n",
    "    outcomes = Counter()\n",
    "    for secret in product(range(colors), repeat=positions):\n",
    "        outcomes[feedback(secret, guess)] += 1\n",
    "    return outcomes\n",
    "\n",
    "def entropy_of_guess(guess, colors=6, positions=4):\n",
    "    \"\"\"Shannon entropy of feedback distribution for a guess.\"\"\"\n",
    "    dist = feedback_distribution(guess, colors, positions)\n",
    "    total = sum(dist.values())\n",
    "    probs = [count / total for count in dist.values()]\n",
    "    return -sum(p * math.log2(p) for p in probs if p > 0)\n",
    "\n",
    "# ---- Example usage ----\n",
    "guess = [0, 1, 2, 3]\n",
    "\n",
    "# Compute distribution\n",
    "dist = feedback_distribution(guess)\n",
    "total = sum(dist.values())\n",
    "\n",
    "# Compute info content for each outcome\n",
    "outcomes_info = []\n",
    "for (b,w), count in dist.items():\n",
    "    p = count / total\n",
    "    I = -math.log2(p)\n",
    "    outcomes_info.append(((b,w), p, I))\n",
    "\n",
    "# Sort so highest info (rarest) is on the right\n",
    "outcomes_info.sort(key=lambda x: x[2])  \n",
    "\n",
    "labels = [f\"{b}b,{w}w\" for (b,w), _, _ in outcomes_info]\n",
    "info   = [I for _, _, I in outcomes_info]\n",
    "\n",
    "# Plot information content\n",
    "plt.figure(figsize=(10,5))\n",
    "plt.bar(labels, info)\n",
    "plt.xticks(rotation=45)\n",
    "plt.title(f\"Information content of feedback outcomes for guess {guess}\")\n",
    "plt.xlabel(\"Feedback (blacks, whites)\")\n",
    "plt.ylabel(\"Information content (bits)\")\n",
    "plt.show()\n",
    "\n",
    "# Print entropy\n",
    "H = entropy_of_guess(guess)\n",
    "print(f\"Entropy for guess {guess}: {H:.4f} bits\")"
   ]
  },
  {
   "cell_type": "markdown",
   "metadata": {},
   "source": [
    "Note that the information of each possiblity is antiproportional to its probability in the graph above. The joint entropy of this candidate equals 3.06 bits, so the expected reduction of candidates in the next move is about 12% of the current candidates."
   ]
  },
  {
   "cell_type": "markdown",
   "metadata": {},
   "source": [
    "Just for building intuition, look at the information content of 4b0w (correct guess, first try) is 10.3bits. If we apply the inverse formula for information content, we get a probability of exactly $\\frac{1}{1296}$, which is the exact probability of guessing the correct secret directly first try. Trivially, it is no wonder that this has then the highest information content.\n",
    "\n",
    "---"
   ]
  },
  {
   "cell_type": "markdown",
   "metadata": {},
   "source": [
    "# Entropy Solver"
   ]
  },
  {
   "cell_type": "markdown",
   "metadata": {},
   "source": [
    "As we now have a metric for calculating the expected information gain of each guess, the so-called entropy, we can now solve the two problems of our initial pruding solver:\n",
    "\n",
    "1. Problem: no good initial guess -> pick any initial guess with the highest entropy\n",
    "2. Problem: no decision criteria for set of feasable candidates -> pick any candidate with highest entropy"
   ]
  },
  {
   "cell_type": "markdown",
   "metadata": {},
   "source": [
    "## Best initial basis"
   ]
  },
  {
   "cell_type": "markdown",
   "metadata": {},
   "source": [
    "Lets start with the first problem and find the best initial guess, for that we can compute the entropy for all $4^6$ combinations. As calculating the entropy of $4^6 = $ 1296 combinations could take some time, we can compute the isomorphisms only. $\\textbf{Isomorphisms}$ are defined as a bijection."
   ]
  },
  {
   "cell_type": "markdown",
   "metadata": {},
   "source": [
    "$$\n",
    "\\varphi : \\{0,\\dots,c-1\\}^p \\;\\to\\; \\{0,\\dots,c-1\\}^p\n",
    "$$\n",
    "\n",
    "such that for all $s,g \\in \\{0,\\dots,c-1\\}^p$:\n",
    "\n",
    "$$\n",
    "F(s,g) \\;=\\; F\\big(\\varphi(s), \\varphi(g)\\big).\n",
    "$$\n",
    "\n",
    "---\n",
    "\n",
    "Isomorphisms are generated by:\n",
    "\n",
    "1. **Color permutations**  \n",
    "\n",
    "$$\n",
    "(x_1,\\dots,x_p) \\;\\mapsto\\; (\\pi(x_1),\\dots,\\pi(x_p)), \n",
    "\\quad \\pi \\in S_c\n",
    "$$\n",
    "\n",
    "2. **Position permutations**  \n",
    "\n",
    "$$\n",
    "(x_1,\\dots,x_p) \\;\\mapsto\\; (x_{\\sigma(1)},\\dots,x_{\\sigma(p)}), \n",
    "\\quad \\sigma \\in S_p\n",
    "$$\n",
    "\n",
    "---\n",
    "\n",
    "Hence the **isomorphism group** of Mastermind is\n",
    "\n",
    "$$\n",
    "\\text{Iso}(p,c) \\;\\cong\\; S_c \\times S_p.\n",
    "$$\n",
    "\n",
    "Lets calculate all isomorphisms first before calculating entropy to optimize runtime."
   ]
  },
  {
   "cell_type": "code",
   "execution_count": 33,
   "metadata": {},
   "outputs": [
    {
     "name": "stdout",
     "output_type": "stream",
     "text": [
      "Unique isomorphisms: 15\n"
     ]
    }
   ],
   "source": [
    "codes # all possible candidates\n",
    "isomorphisms = set() # init empty set of isomorphisms\n",
    "\n",
    "for code in codes:\n",
    "    next_label = 0\n",
    "    relabeled = []\n",
    "    mapping = {}\n",
    "\n",
    "    for c in code:\n",
    "        if c not in mapping:\n",
    "            mapping[c] = next_label\n",
    "            next_label += 1\n",
    "        relabeled.append(mapping[c])\n",
    "\n",
    "    isomorphisms.add(tuple(relabeled))\n",
    "\n",
    "print(f\"Unique isomorphisms: {len(isomorphisms)}\")\n"
   ]
  },
  {
   "cell_type": "markdown",
   "metadata": {},
   "source": [
    "Unintuitively, there are only 15 combinations of colors, if you disregard what colors specifically. This makes entropy calculation simpler.\n",
    "\n",
    "$\\textit{Note that this only makes sence if we assume that the secret maker does not have color preferences. }$"
   ]
  },
  {
   "cell_type": "code",
   "execution_count": 143,
   "metadata": {},
   "outputs": [
    {
     "name": "stdout",
     "output_type": "stream",
     "text": [
      "Best starter isomorph: (0, 1, 2, 3) with entropy of 3.0566709153318903\n"
     ]
    },
    {
     "data": {
      "image/png": "[encoded data removed]",
      "text/plain": [
       "<Figure size 1200x600 with 1 Axes>"
      ]
     },
     "metadata": {},
     "output_type": "display_data"
    }
   ],
   "source": [
    "# Entropy calculation\n",
    "def feedback(secret, guess):\n",
    "    \"\"\"Compute Mastermind feedback (blacks, whites).\"\"\"\n",
    "    blacks = sum(s == g for s, g in zip(secret, guess))\n",
    "    secret_counter = Counter(secret)\n",
    "    guess_counter = Counter(guess)\n",
    "    total_matches = sum((secret_counter & guess_counter).values())\n",
    "    whites = total_matches - blacks\n",
    "    return (blacks, whites)\n",
    "\n",
    "def feedback_distribution(guess, colors=6, positions=4):\n",
    "    \"\"\"Compute distribution of feedback results for a given guess.\"\"\"\n",
    "    outcomes = Counter()\n",
    "    for secret in product(range(colors), repeat=positions):\n",
    "        outcomes[feedback(secret, guess)] += 1\n",
    "    return outcomes\n",
    "\n",
    "def entropy_of_guess(guess, colors=6, positions=4):\n",
    "    \"\"\"Shannon entropy of feedback distribution for a guess.\"\"\"\n",
    "    dist = feedback_distribution(guess, colors, positions)\n",
    "    total = sum(dist.values())\n",
    "    probs = [count / total for count in dist.values()]\n",
    "    return -sum(p * math.log2(p) for p in probs if p > 0)\n",
    "\n",
    "entropies = {}\n",
    "for isomorph in isomorphisms:\n",
    "    entropies[isomorph] = entropy_of_guess(isomorph)\n",
    "\n",
    "isomorph_max = max(entropies, key=entropies.get)\n",
    "\n",
    "print(f\"Best starter isomorph: {isomorph_max} with entropy of {entropies[isomorph_max]}\")\n",
    "\n",
    "sorted_items = sorted(entropies.items(), key=lambda x: x[1], reverse=True)\n",
    "\n",
    "labels = [''.join(map(str, code)) for code, _ in sorted_items]\n",
    "values = [v for _, v in sorted_items]\n",
    "\n",
    "plt.figure(figsize=(12,6))\n",
    "plt.bar(range(len(values)), values)\n",
    "plt.xticks(range(len(values)), labels, rotation=90)\n",
    "plt.ylabel(\"Entropy (bits)\")\n",
    "plt.title(\"Entropy of isomorph representatives\")\n",
    "plt.show()"
   ]
  },
  {
   "cell_type": "markdown",
   "metadata": {},
   "source": [
    "To conclude, it makes most sense to start with four distinct colors (it does not matter which exactly if there are no color preferences). Yet, it is only sligthly better than all 3-color options which are all almost equally as good. 2-color and 1-color starters are significantly worse in terms of information gain."
   ]
  },
  {
   "cell_type": "markdown",
   "metadata": {},
   "source": [
    "---\n",
    "## Entropy Ranking"
   ]
  },
  {
   "cell_type": "markdown",
   "metadata": {},
   "source": [
    "To solve the second problem, we modify the naive pruning with a) our best starter b) a entropy ranking for all feasabile candidates from which we always choose the maximum."
   ]
  },
  {
   "cell_type": "code",
   "execution_count": 74,
   "metadata": {},
   "outputs": [],
   "source": [
    "from collections import Counter\n",
    "import math\n",
    "\n",
    "class pruningEntropySolver:\n",
    "    def __init__(self, positions=4, colors=6, seed=None):\n",
    "        self.positions = positions\n",
    "        self.colors = colors\n",
    "        self.last_guess = None\n",
    "        self.generate_combinations()\n",
    "\n",
    "    def next_guess(self, turn, last_result, positions, colors):\n",
    "        if self.last_guess is not None and last_result is not None:\n",
    "            black_count = last_result[\"black\"]\n",
    "            white_count = last_result[\"white\"]\n",
    "\n",
    "            revised_canditates_matrix = [] \n",
    "\n",
    "            for candidate in self.candidates_matrix:\n",
    "                #check for each remaining combination, if it is still admissable\n",
    "                if self.is_valid_candidate(candidate, black_count, white_count):\n",
    "                    revised_canditates_matrix.append(candidate) # add candidate to posibilites if he is possible\n",
    "\n",
    "            self.candidates_matrix = revised_canditates_matrix # update admissable solutions to new ones\n",
    "\n",
    "        guess = self.pick_candidate()\n",
    "        self.last_guess = guess  # remember for next feedback\n",
    "        return guess\n",
    "    \n",
    "    def pick_candidate(self):\n",
    "        entropies = {}\n",
    "\n",
    "        for candidate in self.candidates_matrix:\n",
    "            cand_tuple = tuple(candidate)\n",
    "            entropies[cand_tuple] = self.entropy_of_guess(cand_tuple, self.candidates_matrix)\n",
    "\n",
    "        best_tuple = max(entropies, key=entropies.get)\n",
    "        return np.array(best_tuple)\n",
    "\n",
    "    def entropy_of_guess(self, guess, candidates):\n",
    "        \"\"\"Compute Shannon entropy of feedback distribution for a guess over candidates.\"\"\"\n",
    "    \n",
    "        def feedback(secret, guess):\n",
    "            blacks = sum(s == g for s, g in zip(secret, guess))\n",
    "            secret_counter = Counter(secret)\n",
    "            guess_counter = Counter(guess)\n",
    "            total_matches = sum((secret_counter & guess_counter).values())\n",
    "            whites = total_matches - blacks\n",
    "            return (blacks, whites)\n",
    "\n",
    "        def feedback_distribution(guess, candidates):\n",
    "            outcomes = Counter()\n",
    "            for secret in candidates:\n",
    "                outcomes[feedback(secret, guess)] += 1\n",
    "            return outcomes\n",
    "\n",
    "        dist = feedback_distribution(guess, candidates)\n",
    "        total = sum(dist.values())\n",
    "        probs = [count / total for count in dist.values()]\n",
    "        return -sum(p * math.log2(p) for p in probs if p > 0)\n",
    "    \n",
    "    def is_valid_candidate(self, candidate, black_count, white_count):\n",
    "        b, w = self.feedback(candidate, self.last_guess)\n",
    "        return (b == black_count) and (w == white_count)\n",
    "    \n",
    "    def feedback(self, secret, guess):\n",
    "        # Blacks\n",
    "        blacks = sum(s == g for s, g in zip(secret, guess))\n",
    "        # Whites\n",
    "        sec_ctr = Counter(secret)\n",
    "        gue_ctr = Counter(guess)\n",
    "        total_matches = sum((sec_ctr & gue_ctr).values())\n",
    "        whites = total_matches - blacks\n",
    "        return blacks, whites\n",
    "        \n",
    "    def generate_combinations(self, positions=4, colors=6, dtype=np.uint8):\n",
    "        \"\"\"Generate all possible codes as candidate matrix.\"\"\"\n",
    "        base = np.arange(colors, dtype=dtype)\n",
    "        grids = np.meshgrid(*([base] * positions), indexing='ij')\n",
    "        self.candidates_matrix = np.stack(grids, axis=-1).reshape(-1, positions)"
   ]
  },
  {
   "cell_type": "code",
   "execution_count": 90,
   "metadata": {},
   "outputs": [
    {
     "name": "stdout",
     "output_type": "stream",
     "text": [
      "Turn  1: 🔴 🟢 🔵 🟡  | (Black: 1, White: 1) ○●\n",
      "Turn  2: 🔴 🔵 🟣 🟠  | (Black: 2, White: 0) ○○\n",
      "Turn  3: 🔴 🔴 🟡 🟠  | (Black: 3, White: 0) ○○○\n",
      "Turn  4: 🔴 🟡 🟡 🟠  | (Black: 2, White: 0) ○○\n",
      "Turn  5: 🔴 🔴 🟢 🟠  | (Black: 4, White: 0) ○○○○\n",
      "--------------------------\n",
      "Secret: 🔴 🔴 🟢 🟠  ->  WIN 🎉\n",
      "\n"
     ]
    },
    {
     "data": {
      "text/plain": [
       "(True, 5, array([0, 0, 1, 5], dtype=uint8))"
      ]
     },
     "execution_count": 90,
     "metadata": {},
     "output_type": "execute_result"
    }
   ],
   "source": [
    "game = MasterMind(np.array([0, 0, 1, 5]))\n",
    "\n",
    "solver = pruningEntropySolver()\n",
    "simulation.play_with_visualizer(game, solver, viz, max_turns=6)"
   ]
  },
  {
   "cell_type": "code",
   "execution_count": 73,
   "metadata": {},
   "outputs": [
    {
     "name": "stderr",
     "output_type": "stream",
     "text": [
      "Benchmarking: 100%|██████████| 1296/1296 [01:00<00:00, 21.40game/s]\n"
     ]
    },
    {
     "name": "stdout",
     "output_type": "stream",
     "text": [
      "{'# mean turns to guess secret': np.float64(4.41), '# maximum turns to guess secret': 6, '# losses (> 6 guesses)': 0}\n"
     ]
    }
   ],
   "source": [
    "import benchmark\n",
    "importlib.reload(benchmark)\n",
    "\n",
    "stats = benchmark.benchmark_solver(pruningEntropySolver, n_jobs=4)\n",
    "print(stats)"
   ]
  },
  {
   "cell_type": "markdown",
   "metadata": {},
   "source": [
    "**We can see that MasterMind is thus indeed a 100\\% winable game as our entropy solver solved every possible game of MasterMind in around 4.45 moves on average and never more than 6 moves.**\n",
    "\n",
    "But: can we do better?"
   ]
  },
  {
   "cell_type": "markdown",
   "metadata": {},
   "source": [
    "# Further improvements and worst-case time complexity"
   ]
  },
  {
   "cell_type": "markdown",
   "metadata": {},
   "source": [
    "We found a algorithm that always wins the game. But can we win faster?\n",
    "This question is too vague, we need to differenciate two cases:\n",
    "\n",
    "I. Win faster on $\\textit{average}$\n",
    "\n",
    "II. Win faster in the $\\textit{worst-case}$"
   ]
  },
  {
   "cell_type": "markdown",
   "metadata": {},
   "source": [
    "## Improvements on average-case complexity"
   ]
  },
  {
   "cell_type": "markdown",
   "metadata": {},
   "source": [
    "We can see that entropy alone is not sufficient to find average-case optimality. If we start with basis 1234, we get an average of 4.47 moves. If we start with 1122, which has far less entropy, we get a averge-case of 4.45. But why is the expected information gain not sufficient?\n",
    "\n",
    "TK\n",
    "\n",
    "Consequently, two possible improvements arise."
   ]
  },
  {
   "cell_type": "markdown",
   "metadata": {},
   "source": [
    "### Entropy + Partition Balance\n",
    "\n",
    "Pure entropy sometimes favors lopsided partitions.\n",
    "To avoid this, we can add a penalty for unbalanced splits.\n",
    "\n",
    "For a guess $g$, let $R$ be the set of all possible responses (feedbacks).\n",
    "For each $r \\in R$, define the partition:\n",
    "\n",
    "$$\n",
    "P(g,r) = \\{ c \\in \\mathcal{C} : \\text{feedback}(g,c) = r \\}\n",
    "$$\n",
    "\n",
    "where $\\mathcal{C}$ is the set of candidate codes.\n",
    "\n",
    "For each guess \\(g\\), define the variance of partition sizes:\n",
    "\n",
    "$$\n",
    "V(g) = \\text{Var}\\big( \\{ |P(g,r)| : r \\in R \\} \\big).\n",
    "$$\n",
    "\n",
    "Then define a hybrid score:\n",
    "\n",
    "$$\n",
    "S(g) = \\alpha \\, H(g) - (1 - \\alpha)\\, \\log_2 \\big(1 + V(g)\\big),\n",
    "$$\n",
    "\n",
    "where $\\alpha \\in [0,1]$ is a trade-off parameter.\n",
    "\n",
    "We then select\n",
    "\n",
    "$$\n",
    "g^* = \\arg\\max_g S(g).\n",
    "$$\n",
    "\n",
    "This balances high entropy with evenly sized partitions,\n",
    "reducing the chance of long tails in the average case."
   ]
  },
  {
   "cell_type": "code",
   "execution_count": null,
   "metadata": {},
   "outputs": [],
   "source": [
    "from collections import Counter\n",
    "import math\n",
    "import numpy as np\n",
    "\n",
    "class pruningEntropyVarianceSolver:\n",
    "    def __init__(self, positions=4, colors=6, seed=None, alpha=0.7):\n",
    "        self.positions = positions\n",
    "        self.colors = colors\n",
    "        self.last_guess = None\n",
    "        self.alpha = alpha  # <<< NEW: balance parameter\n",
    "        self.generate_combinations()\n",
    "\n",
    "    def next_guess(self, turn, last_result, positions, colors):\n",
    "        if self.last_guess is not None and last_result is not None:\n",
    "            black_count = last_result[\"black\"]\n",
    "            white_count = last_result[\"white\"]\n",
    "\n",
    "            revised_canditates_matrix = [] \n",
    "\n",
    "            for candidate in self.candidates_matrix:\n",
    "                if self.is_valid_candidate(candidate, black_count, white_count):\n",
    "                    revised_canditates_matrix.append(candidate)\n",
    "\n",
    "            self.candidates_matrix = revised_canditates_matrix\n",
    "\n",
    "        guess = self.pick_candidate()\n",
    "        self.last_guess = guess\n",
    "        return guess\n",
    "    \n",
    "    def pick_candidate(self):\n",
    "        scores = {}\n",
    "\n",
    "        for candidate in self.candidates_matrix:\n",
    "            cand_tuple = tuple(candidate)\n",
    "            # <<< CHANGED: use hybrid score instead of pure entropy\n",
    "            scores[cand_tuple] = self.hybrid_score(cand_tuple, self.candidates_matrix)\n",
    "\n",
    "        best_tuple = max(scores, key=scores.get)\n",
    "        return np.array(best_tuple)\n",
    "\n",
    "    def entropy_of_guess(self, guess, candidates):\n",
    "        \"\"\"Compute Shannon entropy of feedback distribution for a guess over candidates.\"\"\"\n",
    "    \n",
    "        def feedback(secret, guess):\n",
    "            blacks = sum(s == g for s, g in zip(secret, guess))\n",
    "            secret_counter = Counter(secret)\n",
    "            guess_counter = Counter(guess)\n",
    "            total_matches = sum((secret_counter & guess_counter).values())\n",
    "            whites = total_matches - blacks\n",
    "            return (blacks, whites)\n",
    "\n",
    "        def feedback_distribution(guess, candidates):\n",
    "            outcomes = Counter()\n",
    "            for secret in candidates:\n",
    "                outcomes[feedback(secret, guess)] += 1\n",
    "            return outcomes\n",
    "\n",
    "        dist = feedback_distribution(guess, candidates)\n",
    "        total = sum(dist.values())\n",
    "        probs = [count / total for count in dist.values()]\n",
    "        return -sum(p * math.log2(p) for p in probs if p > 0), dist  # <<< RETURN dist too\n",
    "    \n",
    "    # <<< NEW: variance of partition sizes\n",
    "    def partition_variance(self, dist):\n",
    "        counts = list(dist.values())\n",
    "        if not counts:\n",
    "            return 0.0\n",
    "        mean = sum(counts) / len(counts)\n",
    "        return sum((c - mean) ** 2 for c in counts) / len(counts)\n",
    "\n",
    "    # <<< NEW: hybrid score\n",
    "    def hybrid_score(self, guess, candidates):\n",
    "        entropy, dist = self.entropy_of_guess(guess, candidates)\n",
    "        variance = self.partition_variance(dist)\n",
    "        score = self.alpha * entropy - (1 - self.alpha) * math.log2(1 + variance)\n",
    "        return score\n",
    "    \n",
    "    def is_valid_candidate(self, candidate, black_count, white_count):\n",
    "        b, w = self.feedback(candidate, self.last_guess)\n",
    "        return (b == black_count) and (w == white_count)\n",
    "    \n",
    "    def feedback(self, secret, guess):\n",
    "        blacks = sum(s == g for s, g in zip(secret, guess))\n",
    "        sec_ctr = Counter(secret)\n",
    "        gue_ctr = Counter(guess)\n",
    "        total_matches = sum((sec_ctr & gue_ctr).values())\n",
    "        whites = total_matches - blacks\n",
    "        return blacks, whites\n",
    "        \n",
    "    def generate_combinations(self, positions=4, colors=6, dtype=np.uint8):\n",
    "        base = np.arange(colors, dtype=dtype)\n",
    "        grids = np.meshgrid(*([base] * positions), indexing='ij')\n",
    "        self.candidates_matrix = np.stack(grids, axis=-1).reshape(-1, positions)"
   ]
  },
  {
   "cell_type": "code",
   "execution_count": 15,
   "metadata": {},
   "outputs": [
    {
     "name": "stdout",
     "output_type": "stream",
     "text": [
      "Turn  1: 🔴 🔴 🟢 🔵  | (Black: 1, White: 1) ○●\n",
      "Turn  2: 🔴 🟡 🔴 🟣  | (Black: 1, White: 2) ○●●\n",
      "Turn  3: 🔴 🟣 🔵 🟡  | (Black: 0, White: 2) ●●\n",
      "Turn  4: 🟡 🔴 🔴 🔴  | (Black: 3, White: 0) ○○○\n",
      "Turn  5: 🟡 🔴 🔴 🟠  | (Black: 2, White: 0) ○○\n",
      "Turn  6: 🟣 🔴 🔴 🔴  | (Black: 4, White: 0) ○○○○\n",
      "--------------------------\n",
      "Secret: 🟣 🔴 🔴 🔴  ->  WIN 🎉\n",
      "\n"
     ]
    },
    {
     "data": {
      "text/plain": [
       "(True, 6, array([4, 0, 0, 0]))"
      ]
     },
     "execution_count": 15,
     "metadata": {},
     "output_type": "execute_result"
    }
   ],
   "source": [
    "game = MasterMind(np.array([4, 0, 0, 0]))\n",
    "\n",
    "solver = pruningEntropyVarianceSolver()\n",
    "simulation.play_with_visualizer(game, solver, viz, max_turns=6)"
   ]
  },
  {
   "cell_type": "markdown",
   "metadata": {},
   "source": [
    "Note that this implementation is very slow and inefficient. Using GPT-5, the code was optimized for faster computational performance. The logic remains the same, while code is more complex."
   ]
  },
  {
   "cell_type": "code",
   "execution_count": 58,
   "metadata": {},
   "outputs": [],
   "source": [
    "import numpy as np\n",
    "\n",
    "class pruningEntropyVarianceSolver:\n",
    "    \"\"\"\n",
    "    Fast Mastermind-like solver.\n",
    "    Key ideas:\n",
    "      - Represent all codes once; keep candidates as an index vector into that master list.\n",
    "      - Precompute pairwise blacks and total color matches for *all* code pairs (vectorized).\n",
    "      - On each turn, filter candidates via a single vectorized mask using the precomputed tables.\n",
    "      - Score guesses by taking submatrices and using np.bincount for outcome histograms.\n",
    "    \"\"\"\n",
    "\n",
    "    def __init__(self, positions=4, colors=6, alpha=0.7):\n",
    "        self.positions = int(positions)\n",
    "        self.colors = int(colors)\n",
    "        self.alpha = float(alpha)\n",
    "\n",
    "        # Build full codebook (all possible codes) once.\n",
    "        self._build_codebook()\n",
    "\n",
    "        # Precompute per-code color histograms (n x colors)\n",
    "        self.code_color_counts = self._counts_per_code(self.all_codes)\n",
    "\n",
    "        # Precompute pairwise blacks and total matches (n x n), fully vectorized.\n",
    "        self.blacks = self._pairwise_blacks(self.all_codes)                # exact-position matches\n",
    "        self.matches = self._pairwise_total_color_matches(self.code_color_counts)  # color intersections\n",
    "        self.whites = (self.matches - self.blacks).astype(np.uint8)        # correct color wrong place\n",
    "\n",
    "        # Candidate set = all codes initially, tracked as indices into all_codes\n",
    "        self.candidate_idx = np.arange(self.n_codes, dtype=np.int32)\n",
    "\n",
    "        # Track last guess as an index into all_codes\n",
    "        self.last_guess_idx = None\n",
    "\n",
    "        # Number of (black, white) bins for histograms\n",
    "        self._outcome_bins = (self.positions + 1) * (self.positions + 1)\n",
    "\n",
    "    # ------------------------\n",
    "    # Construction utilities\n",
    "    # ------------------------\n",
    "    def _build_codebook(self):\n",
    "        base = np.arange(self.colors, dtype=np.uint8)\n",
    "        grids = np.meshgrid(*([base] * self.positions), indexing='ij')\n",
    "        self.all_codes = np.stack(grids, axis=-1).reshape(-1, self.positions).astype(np.uint8)\n",
    "        self.n_codes = self.all_codes.shape[0]\n",
    "\n",
    "    def _counts_per_code(self, codes):\n",
    "        \"\"\"\n",
    "        Vectorized per-color counts for every code.\n",
    "        codes: (n, P) uint8\n",
    "        returns: (n, K) uint8\n",
    "        \"\"\"\n",
    "        # one-hot across colors, then sum over positions\n",
    "        # shape: (n, P, K) -> sum axis=1 -> (n, K)\n",
    "        K = self.colors\n",
    "        return (codes[..., None] == np.arange(K, dtype=np.uint8)).sum(axis=1).astype(np.uint8)\n",
    "\n",
    "    def _pairwise_blacks(self, codes):\n",
    "        \"\"\"\n",
    "        Exact-position matches for all code pairs, vectorized.\n",
    "        returns: (n, n) uint8\n",
    "        \"\"\"\n",
    "        n, P = codes.shape\n",
    "        blacks = np.zeros((n, n), dtype=np.uint8)\n",
    "        # Sum equality matrices per position (P is small)\n",
    "        for p in range(P):\n",
    "            col = codes[:, p]\n",
    "            blacks += (col[:, None] == col[None, :]).astype(np.uint8)\n",
    "        return blacks\n",
    "\n",
    "    def _pairwise_total_color_matches(self, counts):\n",
    "        \"\"\"\n",
    "        Total color intersections for all code pairs (sum_k min(count_i,k, count_j,k)).\n",
    "        returns: (n, n) uint8\n",
    "        \"\"\"\n",
    "        n, K = counts.shape\n",
    "        matches = np.zeros((n, n), dtype=np.uint8)\n",
    "        # Sum per color the elementwise min of outer pairs.\n",
    "        for k in range(K):\n",
    "            a = counts[:, k].astype(np.uint16)[:, None]  # promote to avoid tiny-temp overflows\n",
    "            b = counts[:, k].astype(np.uint16)[None, :]\n",
    "            matches += np.minimum(a, b).astype(np.uint8)\n",
    "        return matches\n",
    "\n",
    "    # ------------------------\n",
    "    # Public API\n",
    "    # ------------------------\n",
    "    def generate_combinations(self, positions=4, colors=6):\n",
    "        \"\"\"Kept for API compatibility; codes are already prebuilt in __init__.\"\"\"\n",
    "        # No-op; users of the old API can still call it without harm.\n",
    "        return\n",
    "\n",
    "    # Keep a fast feedback for occasional external checks (unused internally).\n",
    "    def fast_feedback(self, secret, guess):\n",
    "        blacks = np.sum(secret == guess)\n",
    "        sec_counts = np.bincount(secret, minlength=self.colors)\n",
    "        gue_counts = np.bincount(guess, minlength=self.colors)\n",
    "        total_matches = np.minimum(sec_counts, gue_counts).sum()\n",
    "        whites = total_matches - blacks\n",
    "        return np.array([blacks, whites], dtype=np.int8)\n",
    "\n",
    "    def next_guess(self, turn, last_result, positions, colors):\n",
    "        \"\"\"\n",
    "        Keeps the original signature.\n",
    "        - Prunes candidates vectorized via precomputed tables.\n",
    "        - Picks the best candidate using entropy - log(variance) hybrid.\n",
    "        \"\"\"\n",
    "        # Prune based on last feedback\n",
    "        if self.last_guess_idx is not None and last_result is not None:\n",
    "            b = int(last_result[\"black\"])\n",
    "            w = int(last_result[\"white\"])\n",
    "\n",
    "            S = self.candidate_idx\n",
    "            # Vectorized feedback of last guess vs all current candidates\n",
    "            blacks = self.blacks[self.last_guess_idx, S]\n",
    "            whites = self.whites[self.last_guess_idx, S]\n",
    "            mask = (blacks == b) & (whites == w)\n",
    "            self.candidate_idx = S[mask]\n",
    "\n",
    "            if self.candidate_idx.size == 0:\n",
    "                # Should never happen if feedback was consistent\n",
    "                raise RuntimeError(\"No candidates remain after pruning; feedback may be inconsistent.\")\n",
    "\n",
    "        # Choose next guess (restrict guess pool to current candidates for speed)\n",
    "        guess_idx = self._pick_candidate(self.candidate_idx, self.candidate_idx)\n",
    "        self.last_guess_idx = guess_idx\n",
    "        return self.all_codes[guess_idx].astype(int)  # cast to int for nice printing\n",
    "\n",
    "    # ------------------------\n",
    "    # Scoring (entropy + variance)\n",
    "    # ------------------------\n",
    "    def _entropy_and_variance_many(self, guess_idx_vec, secret_idx_vec):\n",
    "        \"\"\"\n",
    "        Computes entropy and variance for multiple guesses against the same candidate set.\n",
    "        Uses precomputed blacks/whites via submatrix lookups and np.bincount per row.\n",
    "        \"\"\"\n",
    "        G = np.asarray(guess_idx_vec, dtype=np.int32)\n",
    "        S = np.asarray(secret_idx_vec, dtype=np.int32)\n",
    "        m = S.size\n",
    "        if m == 0:\n",
    "            raise RuntimeError(\"Empty candidate set.\")\n",
    "\n",
    "        # Gather feedback submatrices: shape (g, m)\n",
    "        blacks_sub = self.blacks[np.ix_(G, S)]\n",
    "        whites_sub = self.whites[np.ix_(G, S)]\n",
    "\n",
    "        # Encode (b,w) into compact bin ids in [0, (P+1)^2)\n",
    "        P = self.positions\n",
    "        ids = (blacks_sub.astype(np.int16) * (P + 1) + whites_sub.astype(np.int16))\n",
    "\n",
    "        g = G.size\n",
    "        ent = np.empty(g, dtype=np.float64)\n",
    "        var = np.empty(g, dtype=np.float64)\n",
    "\n",
    "        # Compute distribution, entropy, and variance per guess using C-level bincount\n",
    "        for r in range(g):\n",
    "            counts = np.bincount(ids[r], minlength=self._outcome_bins)\n",
    "            # drop zeros; only distinct outcomes matter for the \"variance over buckets\"\n",
    "            nz = counts[counts > 0]\n",
    "            # entropy\n",
    "            p = nz / m\n",
    "            ent[r] = -(p * np.log2(p)).sum()\n",
    "            # variance across non-empty buckets\n",
    "            mean = m / nz.size\n",
    "            var[r] = ((nz - mean) ** 2).mean()\n",
    "\n",
    "        return ent, var\n",
    "\n",
    "    def _hybrid_scores(self, guess_idx_vec, secret_idx_vec):\n",
    "        ent, var = self._entropy_and_variance_many(guess_idx_vec, secret_idx_vec)\n",
    "        # alpha * entropy  - (1 - alpha) * log2(1 + variance)\n",
    "        return self.alpha * ent - (1.0 - self.alpha) * np.log2(1.0 + var)\n",
    "\n",
    "    def _pick_candidate(self, guess_pool_idx, candidate_idx):\n",
    "        if guess_pool_idx.size == 1:\n",
    "            return int(guess_pool_idx[0])\n",
    "        \n",
    "        scores = self._hybrid_scores(guess_pool_idx, candidate_idx)\n",
    "        # Break ties by favoring an actual candidate with the smallest index for determinism\n",
    "        best_rel = int(np.argmax(scores))\n",
    "        return int(guess_pool_idx[best_rel])"
   ]
  },
  {
   "cell_type": "code",
   "execution_count": 78,
   "metadata": {},
   "outputs": [
    {
     "name": "stdout",
     "output_type": "stream",
     "text": [
      "Turn  1: 🔴 🔴 🟢 🔵  | (Black: 1, White: 1) ○●\n",
      "Turn  2: 🔴 🟡 🔴 🟣  | (Black: 1, White: 2) ○●●\n",
      "Turn  3: 🔴 🟣 🔵 🟡  | (Black: 0, White: 2) ●●\n",
      "Turn  4: 🟡 🔴 🔴 🔴  | (Black: 3, White: 0) ○○○\n",
      "Turn  5: 🟡 🔴 🔴 🟠  | (Black: 2, White: 0) ○○\n",
      "Turn  6: 🟣 🔴 🔴 🔴  | (Black: 4, White: 0) ○○○○\n",
      "--------------------------\n",
      "Secret: 🟣 🔴 🔴 🔴  ->  WIN 🎉\n",
      "\n"
     ]
    },
    {
     "data": {
      "text/plain": [
       "(True, 6, array([4, 0, 0, 0]))"
      ]
     },
     "execution_count": 78,
     "metadata": {},
     "output_type": "execute_result"
    }
   ],
   "source": [
    "game = MasterMind(np.array([4, 0, 0, 0]))\n",
    "\n",
    "solver = pruningEntropyVarianceSolver()\n",
    "simulation.play_with_visualizer(game, solver, viz, max_turns=6)"
   ]
  },
  {
   "cell_type": "code",
   "execution_count": 89,
   "metadata": {},
   "outputs": [
    {
     "name": "stderr",
     "output_type": "stream",
     "text": [
      "\n",
      "\u001b[A\n",
      "\u001b[A\n",
      "\u001b[A\n",
      "\u001b[A\n",
      "\u001b[A\n",
      "\u001b[A\n",
      "\u001b[A\n",
      "\u001b[A\n",
      "\u001b[A\n",
      "\u001b[A\n",
      "\u001b[A\n",
      "\u001b[A\n",
      "\u001b[A\n",
      "\u001b[A\n",
      "\u001b[A\n",
      "\u001b[A\n",
      "\u001b[A\n",
      "\u001b[A\n",
      "\u001b[A\n",
      "\u001b[A\n",
      "\u001b[A\n",
      "\u001b[A\n",
      "\u001b[A\n",
      "\u001b[A\n",
      "\u001b[A\n",
      "\u001b[A\n",
      "\u001b[A\n",
      "\u001b[A\n",
      "\u001b[A\n",
      "\u001b[A\n",
      "\u001b[A\n",
      "\u001b[A\n",
      "\u001b[A\n",
      "\u001b[A\n",
      "\u001b[A\n",
      "\u001b[A\n",
      "\u001b[A\n",
      "\u001b[A\n",
      "\u001b[A\n",
      "\u001b[A\n",
      "\u001b[A\n",
      "\u001b[A\n",
      "\u001b[A\n",
      "\u001b[A\n",
      "\u001b[A\n",
      "\u001b[A\n",
      "\u001b[A\n",
      "\u001b[A\n",
      "\u001b[A\n",
      "\u001b[A\n",
      "\u001b[A\n",
      "\u001b[A\n",
      "\u001b[A\n",
      "Benchmarking: 100%|██████████| 1296/1296 [00:09<00:00, 142.23game/s]\n"
     ]
    },
    {
     "name": "stdout",
     "output_type": "stream",
     "text": [
      "{'# mean turns to guess secret': np.float64(4.47), '# maximum turns to guess secret': 6, '# losses (> 6 guesses)': 0}\n"
     ]
    }
   ],
   "source": [
    "import benchmark\n",
    "importlib.reload(benchmark)\n",
    "\n",
    "stats = benchmark.benchmark_solver(pruningEntropyVarianceSolver, n_jobs=6)\n",
    "print(stats)"
   ]
  },
  {
   "cell_type": "markdown",
   "metadata": {},
   "source": [
    "We see slight improvements. Note that it appears that 0123 is not the best starting guess. We will explore the reasons for that later on.\n",
    "\n",
    "Now, instead of trying to find further improvements to the algorithm, lets try to compute a theoretical mathematical limit of the average case complexity. This gives us a clear goal. If we reach it after that algorithmically, we have optimized MasterMind to the fullest."
   ]
  },
  {
   "cell_type": "markdown",
   "metadata": {},
   "source": [
    "# Theoretical average case time complexity limit"
   ]
  },
  {
   "cell_type": "markdown",
   "metadata": {},
   "source": []
  }
 ],
 "metadata": {
  "kernelspec": {
   "display_name": "Python 3",
   "language": "python",
   "name": "python3"
  },
  "language_info": {
   "codemirror_mode": {
    "name": "ipython",
    "version": 3
   },
   "file_extension": ".py",
   "mimetype": "text/x-python",
   "name": "python",
   "nbconvert_exporter": "python",
   "pygments_lexer": "ipython3",
   "version": "3.13.3"
  }
 },
 "nbformat": 4,
 "nbformat_minor": 2
}
